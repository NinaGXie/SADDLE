{
 "cells": [
  {
   "cell_type": "code",
   "execution_count": 7,
   "metadata": {},
   "outputs": [
    {
     "name": "stdout",
     "output_type": "stream",
     "text": [
      "36203\n"
     ]
    }
   ],
   "source": [
    "import pysam\n",
    "import pandas as pd\n",
    "from Bio import SeqIO\n",
    "from Bio.SeqIO import FastaIO\n",
    "\n",
    "Name = 'E14_Lib1'\n",
    "\n",
    "# Sort into Bam file\n",
    "pysam.sort(\"-o\", Name +\".bam\", Name + \".sam\")\n",
    "pysam.index(Name + '.bam')\n",
    "\n",
    "# count all the on target reads\n",
    "bamfile = pysam.AlignmentFile(Name + '.bam', \"rb\")\n",
    "Data = bamfile.get_index_statistics()\n",
    "df = pd.DataFrame(Data)\n",
    "OnTar = df.mapped//2\n",
    "print(sum(OnTar))\n",
    "\n",
    "# Write On-Target plex to Excel\n",
    "with pd.ExcelWriter(Name+'_OnTarget.xlsx') as writer: \n",
    "    OnTar.to_excel(writer, index = False, header=False)\n",
    "\n",
    "# write out all the unmapped reads\n",
    "mark1 = 0\n",
    "mark2 = 0\n",
    "samfile = pysam.AlignmentFile(Name+'.sam', 'r')\n",
    "with open(Name + '_unmapped_R1.fasta', 'w') as f1:\n",
    "    with open(Name + '_unmapped_R2.fasta', 'w') as f2:\n",
    "            for read in samfile.fetch():\n",
    "                if read.is_paired and read.is_unmapped:\n",
    "                    if read.is_read1:\n",
    "                        read1 = read\n",
    "                        mark1 = 1\n",
    "                    elif read.is_read2:\n",
    "                        read2 = read\n",
    "                        mark2 = 1\n",
    "                        \n",
    "                        if mark1 == 1 and mark2 == 1:\n",
    "                            f1.write('>%s\\n' % read1.query_name)\n",
    "                            f1.write('%s\\n' % read1.query_sequence)   \n",
    "\n",
    "                            f2.write('>%s\\n' % read2.query_name)\n",
    "                            f2.write('%s\\n' % read2.query_sequence) \n",
    "\n",
    "                            mark1 = 0\n",
    "                            mark2 = 0\n",
    "                            \n",
    "# combine all the short reads and unmapped reads in a fasta file\n",
    "# define file_list here\n",
    "fList1 = [Name + '_QC_R1_short.fasta',Name + '_unmapped_R1.fasta']\n",
    "fList2 = [Name + '_QC_R2_short.fasta',Name + '_unmapped_R2.fasta']\n",
    "\n",
    "\n",
    "with open(Name + '_DimerCand_R1.fasta', 'w') as w_file:\n",
    "    for filen in fList1:\n",
    "        with open(filen, 'r') as o_file:\n",
    "            for record in SeqIO.parse(o_file, 'fasta'):\n",
    "                w_file.write('>%s\\n' % record.id) \n",
    "                w_file.write('%s\\n' % record.seq)  \n",
    "                \n",
    "with open(Name + '_DimerCand_R2.fasta', 'w') as w_file:\n",
    "    for filen in fList2:\n",
    "        with open(filen, 'r') as o_file:\n",
    "            for record in SeqIO.parse(o_file, 'fasta'):\n",
    "                w_file.write('>%s\\n' % record.id) \n",
    "                w_file.write('%s\\n' % record.seq)    \n",
    "                            \n",
    "                            "
   ]
  },
  {
   "cell_type": "code",
   "execution_count": null,
   "metadata": {},
   "outputs": [],
   "source": []
  }
 ],
 "metadata": {
  "kernelspec": {
   "display_name": "Python 3",
   "language": "python",
   "name": "python3"
  },
  "language_info": {
   "codemirror_mode": {
    "name": "ipython",
    "version": 3
   },
   "file_extension": ".py",
   "mimetype": "text/x-python",
   "name": "python",
   "nbconvert_exporter": "python",
   "pygments_lexer": "ipython3",
   "version": "3.7.9"
  }
 },
 "nbformat": 4,
 "nbformat_minor": 4
}
